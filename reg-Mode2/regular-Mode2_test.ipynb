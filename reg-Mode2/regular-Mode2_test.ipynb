{
 "cells": [
  {
   "cell_type": "code",
   "execution_count": 1,
   "metadata": {
    "collapsed": false,
    "deletable": true,
    "editable": true
   },
   "outputs": [
    {
     "name": "stderr",
     "output_type": "stream",
     "text": [
      "Using TensorFlow backend.\n"
     ]
    }
   ],
   "source": [
    "from keras.datasets import cifar10\n",
    "from keras.models import load_model\n",
    "from keras.utils.np_utils import to_categorical\n",
    "import numpy as np\n",
    "from six.moves import cPickle as pickle\n",
    "import os.path\n",
    "from IPython import display\n",
    "import matplotlib.pyplot as plt\n",
    "\n",
    "% matplotlib inline\n",
    "% config InlineBackend.figure_format = 'retina'"
   ]
  },
  {
   "cell_type": "code",
   "execution_count": 2,
   "metadata": {
    "collapsed": false,
    "deletable": true,
    "editable": true
   },
   "outputs": [],
   "source": [
    "def prepData(image_class):\n",
    "    # Fetch data\n",
    "    (X_train, y_train), (X_test, y_test) = cifar10.load_data()\n",
    "\n",
    "    # Convert uint8 pixel values to float32 in the range [0, 1] (for sigmoid)\n",
    "    X_test = X_test.astype('float32')\n",
    "    X_test /= 255\n",
    "\n",
    "    # Split dataset\n",
    "    X_new = np.ndarray(shape=(X_test.shape[0] / 10, X_test.shape[1], \n",
    "                        X_test.shape[2], X_test.shape[3]), dtype=np.float32)\n",
    "    X_other = np.ndarray(shape=(9 * X_test.shape[0] / 10, X_test.shape[1], \n",
    "                        X_test.shape[2], X_test.shape[3]), dtype=np.float32)\n",
    "\n",
    "    sampleNumber = 0\n",
    "    otherNumber = 0\n",
    "    for X, y in zip(X_test, y_test):\n",
    "        if y[0] == image_class:\n",
    "            X_new[sampleNumber] = X\n",
    "            sampleNumber += 1\n",
    "        else:\n",
    "            X_other[otherNumber] = X\n",
    "            otherNumber += 1\n",
    "    X_test = X_new[:, :, :, :]\n",
    "\n",
    "    return X_test, X_other"
   ]
  },
  {
   "cell_type": "code",
   "execution_count": 4,
   "metadata": {
    "collapsed": false,
    "deletable": true,
    "editable": true
   },
   "outputs": [
    {
     "name": "stdout",
     "output_type": "stream",
     "text": [
      "Epoch: 50, Image class: 0, Accuracy: 0.9070\n",
      "Epoch: 50, Image class: 1, Accuracy: 0.9550\n",
      "Epoch: 50, Image class: 2, Accuracy: 0.8570\n",
      "Epoch: 50, Image class: 3, Accuracy: 0.8125\n",
      "Epoch: 50, Image class: 4, Accuracy: 0.8800\n",
      "Epoch: 50, Image class: 5, Accuracy: 0.8700\n",
      "Epoch: 50, Image class: 6, Accuracy: 0.9175\n",
      "Epoch: 50, Image class: 7, Accuracy: 0.8960\n",
      "Epoch: 50, Image class: 8, Accuracy: 0.9415\n",
      "Epoch: 50, Image class: 9, Accuracy: 0.9285\n",
      "\n",
      "Epoch: 50 Average Accuracy: 0.8965\n",
      "\n",
      "Epoch: 100, Image class: 0, Accuracy: 0.9065\n",
      "Epoch: 100, Image class: 1, Accuracy: 0.9550\n",
      "Epoch: 100, Image class: 2, Accuracy: 0.8485\n",
      "Epoch: 100, Image class: 3, Accuracy: 0.8110\n",
      "Epoch: 100, Image class: 4, Accuracy: 0.8915\n",
      "Epoch: 100, Image class: 5, Accuracy: 0.8490\n",
      "Epoch: 100, Image class: 6, Accuracy: 0.9055\n",
      "Epoch: 100, Image class: 7, Accuracy: 0.9080\n",
      "Epoch: 100, Image class: 8, Accuracy: 0.9370\n",
      "Epoch: 100, Image class: 9, Accuracy: 0.9275\n",
      "\n",
      "Epoch: 100 Average Accuracy: 0.8940\n",
      "\n",
      "Epoch: 150, Image class: 0, Accuracy: 0.9010\n",
      "Epoch: 150, Image class: 1, Accuracy: 0.9410\n",
      "Epoch: 150, Image class: 2, Accuracy: 0.8525\n",
      "Epoch: 150, Image class: 3, Accuracy: 0.7855\n",
      "Epoch: 150, Image class: 4, Accuracy: 0.8820\n",
      "Epoch: 150, Image class: 5, Accuracy: 0.8380\n",
      "Epoch: 150, Image class: 6, Accuracy: 0.8915\n",
      "Epoch: 150, Image class: 7, Accuracy: 0.9145\n",
      "Epoch: 150, Image class: 8, Accuracy: 0.9455\n",
      "Epoch: 150, Image class: 9, Accuracy: 0.9360\n",
      "\n",
      "Epoch: 150 Average Accuracy: 0.8888\n",
      "\n",
      "Epoch: 200, Image class: 0, Accuracy: 0.9035\n",
      "Epoch: 200, Image class: 1, Accuracy: 0.9480\n",
      "Epoch: 200, Image class: 2, Accuracy: 0.8535\n",
      "Epoch: 200, Image class: 3, Accuracy: 0.8045\n",
      "Epoch: 200, Image class: 4, Accuracy: 0.8770\n",
      "Epoch: 200, Image class: 5, Accuracy: 0.8305\n",
      "Epoch: 200, Image class: 6, Accuracy: 0.9060\n",
      "Epoch: 200, Image class: 7, Accuracy: 0.9100\n",
      "Epoch: 200, Image class: 8, Accuracy: 0.9430\n",
      "Epoch: 200, Image class: 9, Accuracy: 0.9305\n",
      "\n",
      "Epoch: 200 Average Accuracy: 0.8906\n",
      "\n",
      "Epoch: 250, Image class: 0, Accuracy: 0.9100\n",
      "Epoch: 250, Image class: 1, Accuracy: 0.9495\n",
      "Epoch: 250, Image class: 2, Accuracy: 0.8190\n",
      "Epoch: 250, Image class: 3, Accuracy: 0.7790\n",
      "Epoch: 250, Image class: 4, Accuracy: 0.8745\n",
      "Epoch: 250, Image class: 5, Accuracy: 0.8410\n",
      "Epoch: 250, Image class: 6, Accuracy: 0.9085\n",
      "Epoch: 250, Image class: 7, Accuracy: 0.9085\n",
      "Epoch: 250, Image class: 8, Accuracy: 0.9265\n",
      "Epoch: 250, Image class: 9, Accuracy: 0.9310\n",
      "\n",
      "Epoch: 250 Average Accuracy: 0.8848\n",
      "\n",
      "Epoch: 300, Image class: 0, Accuracy: 0.9050\n",
      "Epoch: 300, Image class: 1, Accuracy: 0.9500\n",
      "Epoch: 300, Image class: 2, Accuracy: 0.8280\n",
      "Epoch: 300, Image class: 3, Accuracy: 0.7640\n",
      "Epoch: 300, Image class: 4, Accuracy: 0.8735\n",
      "Epoch: 300, Image class: 5, Accuracy: 0.8315\n",
      "Epoch: 300, Image class: 6, Accuracy: 0.9095\n",
      "Epoch: 300, Image class: 7, Accuracy: 0.8915\n",
      "Epoch: 300, Image class: 8, Accuracy: 0.9210\n",
      "Epoch: 300, Image class: 9, Accuracy: 0.9310\n",
      "\n",
      "Epoch: 300 Average Accuracy: 0.8805\n",
      "\n"
     ]
    }
   ],
   "source": [
    "for epoch in [50, 100, 150, 200, 250, 300]:\n",
    "    avg_accuracy = 0\n",
    "    for image_class in range(10):\n",
    "        X_test, X_other = prepData(image_class)\n",
    "        y_test = np.zeros(shape=(X_test.shape[0], 2))\n",
    "        y_other = np.zeros(shape=(X_other.shape[0], 2))\n",
    "        y_test[:, 0] = 1 # Real class images\n",
    "        y_other[:, 1] = 1 # Real other images\n",
    "\n",
    "        other_indices = np.random.randint(0, X_other.shape[0], X_test.shape[0])\n",
    "        X_test = np.concatenate((X_test, X_other[other_indices, :, :, :]))\n",
    "        y_test = np.concatenate((y_test, y_other[other_indices, :]))\n",
    "\n",
    "        discriminator = load_model(\"networks/disc\" + str(image_class) + \"-\" + str(epoch) + \".h5\")\n",
    "\n",
    "        preds = discriminator.predict(X_test)\n",
    "\n",
    "        accuracy = 0\n",
    "        for pred_index in range(len(preds)):\n",
    "            if y_test[pred_index, 0] == 1:\n",
    "                if preds[pred_index, 0] >= preds[pred_index, 1]:\n",
    "                    accuracy += 1\n",
    "            elif y_test[pred_index, 1] == 1:\n",
    "                if preds[pred_index, 0] <= preds[pred_index, 1]:\n",
    "                    accuracy += 1\n",
    "            else:\n",
    "                print \"y_test should not include generated images\"\n",
    "\n",
    "        accuracy /= 1. * len(preds)\n",
    "\n",
    "        msg = \"Epoch: {:d}, Image class: {:d}\".format(epoch, image_class)\n",
    "        msg += \", Accuracy: {:.4f}\".format(accuracy)\n",
    "        print msg\n",
    "\n",
    "        avg_accuracy += accuracy\n",
    "    print \"\\nEpoch: {:d} Average Accuracy: {:.4f}\\n\".format(epoch, avg_accuracy / 10)"
   ]
  },
  {
   "cell_type": "code",
   "execution_count": 3,
   "metadata": {
    "collapsed": false,
    "deletable": true,
    "editable": true
   },
   "outputs": [
    {
     "name": "stdout",
     "output_type": "stream",
     "text": [
      "Epoch 50 joint accuracy: 0.7648\n",
      "Epoch 100 joint accuracy: 0.7921\n",
      "Epoch 150 joint accuracy: 0.7943\n",
      "Epoch 200 joint accuracy: 0.8049\n",
      "Epoch 250 joint accuracy: 0.8032\n",
      "Epoch 300 joint accuracy: 0.8032\n"
     ]
    }
   ],
   "source": [
    "# Fetch data\n",
    "(X_train, y_train), (X_test, y_test) = cifar10.load_data()\n",
    "\n",
    "# Convert uint8 pixel values to float32 in the range [0, 1] (for sigmoid)\n",
    "X_test = X_test.astype('float32')\n",
    "X_test /= 255\n",
    "\n",
    "for epoch in [50, 100, 150, 200, 250, 300]:\n",
    "    all_class_preds = np.ndarray(shape=(X_test.shape[0], 10), dtype=np.float32)\n",
    "    for image_class in range(10):\n",
    "        discriminator = load_model(\"networks/disc\" + str(image_class) + \"-\" + str(epoch) + \".h5\")\n",
    "        preds = discriminator.predict(X_test)\n",
    "        class_preds = preds[:, 0]\n",
    "        all_class_preds[:, image_class] = class_preds\n",
    "\n",
    "    # Calculate joint accuracy\n",
    "    all_class_preds_index = np.argmax(all_class_preds, axis=1)\n",
    "    accuracy = 0\n",
    "    for y, p in zip(y_test, all_class_preds_index):\n",
    "        if y == p:\n",
    "            accuracy += 1\n",
    "    accuracy /= 1. * len(y_test)\n",
    "    print \"Epoch {:d} joint accuracy: {:.4f}\".format(epoch, accuracy)"
   ]
  },
  {
   "cell_type": "code",
   "execution_count": null,
   "metadata": {
    "collapsed": true,
    "deletable": true,
    "editable": true
   },
   "outputs": [],
   "source": []
  }
 ],
 "metadata": {
  "anaconda-cloud": {},
  "kernelspec": {
   "display_name": "Python [default]",
   "language": "python",
   "name": "python2"
  },
  "language_info": {
   "codemirror_mode": {
    "name": "ipython",
    "version": 2
   },
   "file_extension": ".py",
   "mimetype": "text/x-python",
   "name": "python",
   "nbconvert_exporter": "python",
   "pygments_lexer": "ipython2",
   "version": "2.7.12"
  }
 },
 "nbformat": 4,
 "nbformat_minor": 1
}
