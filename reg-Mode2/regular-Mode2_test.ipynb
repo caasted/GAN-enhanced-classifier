{
 "cells": [
  {
   "cell_type": "code",
   "execution_count": null,
   "metadata": {
    "collapsed": false,
    "deletable": true,
    "editable": true
   },
   "outputs": [],
   "source": [
    "from keras.datasets import cifar10\n",
    "from keras.models import load_model\n",
    "import numpy as np\n",
    "\n",
    "from IPython import display\n",
    "import matplotlib.pyplot as plt\n",
    "\n",
    "% matplotlib inline\n",
    "% config InlineBackend.figure_format = 'retina'"
   ]
  },
  {
   "cell_type": "code",
   "execution_count": null,
   "metadata": {
    "collapsed": false,
    "deletable": true,
    "editable": true
   },
   "outputs": [],
   "source": [
    "# Fetch data\n",
    "(X_train, y_train), (X_test, y_test) = cifar10.load_data()\n",
    "\n",
    "# Convert uint8 pixel values to float32 in the range [0, 1] (for sigmoid)\n",
    "X_test = X_test.astype('float32')\n",
    "X_test /= 255\n",
    "\n",
    "epochs = range(10, 501, 10)\n",
    "acc_trend = []\n",
    "for epoch in epochs:\n",
    "    all_class_preds = np.ndarray(shape=(X_test.shape[0], 10), dtype=np.float32)\n",
    "    for image_class in range(10):\n",
    "        discriminator = load_model(\"networks/disc\" + str(image_class) + \"-\" + str(epoch) + \".h5\")\n",
    "        preds = discriminator.predict(X_test)\n",
    "        class_preds = preds[:, 0]\n",
    "        all_class_preds[:, image_class] = class_preds\n",
    "\n",
    "    # Calculate joint accuracy\n",
    "    all_class_preds_index = np.argmax(all_class_preds, axis=1)\n",
    "    accuracy = 0\n",
    "    for y, p in zip(y_test, all_class_preds_index):\n",
    "        if y == p:\n",
    "            accuracy += 1\n",
    "    accuracy /= 1. * len(y_test)\n",
    "    acc_trend.append(accuracy)\n",
    "    \n",
    "    print \"Epoch: {:d}, Joint Accuracy: {:.4f}\".format(epoch, accuracy)"
   ]
  },
  {
   "cell_type": "code",
   "execution_count": null,
   "metadata": {
    "collapsed": true,
    "deletable": true,
    "editable": true
   },
   "outputs": [],
   "source": [
    "plt.figure(figsize=(10,8))\n",
    "plt.plot(epochs, acc_trend)\n",
    "plt.show()"
   ]
  }
 ],
 "metadata": {
  "anaconda-cloud": {},
  "kernelspec": {
   "display_name": "Python [default]",
   "language": "python",
   "name": "python2"
  },
  "language_info": {
   "codemirror_mode": {
    "name": "ipython",
    "version": 2
   },
   "file_extension": ".py",
   "mimetype": "text/x-python",
   "name": "python",
   "nbconvert_exporter": "python",
   "pygments_lexer": "ipython2",
   "version": "2.7.12"
  }
 },
 "nbformat": 4,
 "nbformat_minor": 1
}
