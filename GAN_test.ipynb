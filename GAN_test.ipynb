{
 "cells": [
  {
   "cell_type": "code",
   "execution_count": 1,
   "metadata": {
    "collapsed": false
   },
   "outputs": [
    {
     "name": "stderr",
     "output_type": "stream",
     "text": [
      "Using TensorFlow backend.\n"
     ]
    }
   ],
   "source": [
    "from IPython import display\n",
    "import matplotlib.pyplot as plt\n",
    "import cPickle as pickle\n",
    "import numpy as np\n",
    "from keras.models import load_model\n",
    "from keras.datasets import cifar10"
   ]
  },
  {
   "cell_type": "code",
   "execution_count": null,
   "metadata": {
    "collapsed": false
   },
   "outputs": [],
   "source": [
    "pickle_file = 'losses3-60000.pickle'\n",
    "\n",
    "with open(pickle_file, 'rb') as f:\n",
    "    losses = pickle.load(f)\n",
    "\n",
    "def plot_loss(losses):\n",
    "    display.clear_output(wait=True)\n",
    "    display.display(plt.gcf())\n",
    "    plt.figure(figsize=(12,6))\n",
    "    plt.plot(losses[\"d\"], label='discriminitive loss')\n",
    "    plt.plot(losses[\"g\"], label='generative loss')\n",
    "    plt.plot(losses[\"acc\"], label='discriminator accuracy')\n",
    "    plt.legend()\n",
    "    plt.show()\n",
    "        \n",
    "plot_loss(losses)"
   ]
  },
  {
   "cell_type": "code",
   "execution_count": null,
   "metadata": {
    "collapsed": false
   },
   "outputs": [],
   "source": [
    "generator = load_model('gen3-10000.h5')\n",
    "\n",
    "noise = np.random.uniform(0,1,size=[64,100])\n",
    "generated_images = generator.predict(noise)\n",
    "\n",
    "plt.figure(figsize=(10, 10))\n",
    "for i in range(generated_images.shape[0]):\n",
    "    plt.subplot(8, 8, i+1)\n",
    "    img = generated_images[i,:,:,:]\n",
    "    plt.imshow(img)\n",
    "    plt.axis('off')\n",
    "plt.tight_layout()\n",
    "plt.show()"
   ]
  },
  {
   "cell_type": "code",
   "execution_count": null,
   "metadata": {
    "collapsed": true
   },
   "outputs": [],
   "source": [
    "generator = load_model('gen3-20000.h5')\n",
    "\n",
    "noise = np.random.uniform(0,1,size=[64,100])\n",
    "generated_images = generator.predict(noise)\n",
    "\n",
    "plt.figure(figsize=(10, 10))\n",
    "for i in range(generated_images.shape[0]):\n",
    "    plt.subplot(8, 8, i+1)\n",
    "    img = generated_images[i,:,:,:]\n",
    "    plt.imshow(img)\n",
    "    plt.axis('off')\n",
    "plt.tight_layout()\n",
    "plt.show()"
   ]
  },
  {
   "cell_type": "code",
   "execution_count": null,
   "metadata": {
    "collapsed": true
   },
   "outputs": [],
   "source": [
    "generator = load_model('gen3-30000.h5')\n",
    "\n",
    "noise = np.random.uniform(0,1,size=[64,100])\n",
    "generated_images = generator.predict(noise)\n",
    "\n",
    "plt.figure(figsize=(10, 10))\n",
    "for i in range(generated_images.shape[0]):\n",
    "    plt.subplot(8, 8, i+1)\n",
    "    img = generated_images[i,:,:,:]\n",
    "    plt.imshow(img)\n",
    "    plt.axis('off')\n",
    "plt.tight_layout()\n",
    "plt.show()"
   ]
  },
  {
   "cell_type": "code",
   "execution_count": null,
   "metadata": {
    "collapsed": true
   },
   "outputs": [],
   "source": [
    "generator = load_model('gen3-40000.h5')\n",
    "\n",
    "noise = np.random.uniform(0,1,size=[64,100])\n",
    "generated_images = generator.predict(noise)\n",
    "\n",
    "plt.figure(figsize=(10, 10))\n",
    "for i in range(generated_images.shape[0]):\n",
    "    plt.subplot(8, 8, i+1)\n",
    "    img = generated_images[i,:,:,:]\n",
    "    plt.imshow(img)\n",
    "    plt.axis('off')\n",
    "plt.tight_layout()\n",
    "plt.show()"
   ]
  },
  {
   "cell_type": "code",
   "execution_count": null,
   "metadata": {
    "collapsed": true
   },
   "outputs": [],
   "source": [
    "generator = load_model('gen3-50000.h5')\n",
    "\n",
    "noise = np.random.uniform(0,1,size=[64,100])\n",
    "generated_images = generator.predict(noise)\n",
    "\n",
    "plt.figure(figsize=(10, 10))\n",
    "for i in range(generated_images.shape[0]):\n",
    "    plt.subplot(8, 8, i+1)\n",
    "    img = generated_images[i,:,:,:]\n",
    "    plt.imshow(img)\n",
    "    plt.axis('off')\n",
    "plt.tight_layout()\n",
    "plt.show()"
   ]
  },
  {
   "cell_type": "code",
   "execution_count": null,
   "metadata": {
    "collapsed": true
   },
   "outputs": [],
   "source": [
    "generator = load_model('gen3-60000.h5')\n",
    "\n",
    "noise = np.random.uniform(0,1,size=[64,100])\n",
    "generated_images = generator.predict(noise)\n",
    "\n",
    "plt.figure(figsize=(10, 10))\n",
    "for i in range(generated_images.shape[0]):\n",
    "    plt.subplot(8, 8, i+1)\n",
    "    img = generated_images[i,:,:,:]\n",
    "    plt.imshow(img)\n",
    "    plt.axis('off')\n",
    "plt.tight_layout()\n",
    "plt.show()"
   ]
  }
 ],
 "metadata": {
  "kernelspec": {
   "display_name": "Python [default]",
   "language": "python",
   "name": "python2"
  },
  "language_info": {
   "codemirror_mode": {
    "name": "ipython",
    "version": 2
   },
   "file_extension": ".py",
   "mimetype": "text/x-python",
   "name": "python",
   "nbconvert_exporter": "python",
   "pygments_lexer": "ipython2",
   "version": "2.7.12"
  }
 },
 "nbformat": 4,
 "nbformat_minor": 1
}
