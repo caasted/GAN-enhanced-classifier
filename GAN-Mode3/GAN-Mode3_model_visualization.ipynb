{
 "cells": [
  {
   "cell_type": "code",
   "execution_count": 1,
   "metadata": {
    "collapsed": false
   },
   "outputs": [
    {
     "name": "stderr",
     "output_type": "stream",
     "text": [
      "Using TensorFlow backend.\n"
     ]
    }
   ],
   "source": [
    "from keras.datasets import cifar10\n",
    "from keras.models import Model\n",
    "from keras.layers import Dense, Dropout, SpatialDropout2D, Activation, Flatten\n",
    "from keras.layers import Input, Convolution2D, Reshape, UpSampling2D\n",
    "from keras.layers.advanced_activations import LeakyReLU\n",
    "from keras.layers.normalization import BatchNormalization\n",
    "from keras.regularizers import l1, l2\n",
    "from keras.layers.pooling import MaxPooling2D\n",
    "from keras.optimizers import Adadelta\n",
    "\n",
    "# from IPython.display import SVG\n",
    "# from keras.utils.visualize_util import model_to_dot\n",
    "\n",
    "from keras.utils.visualize_util import plot"
   ]
  },
  {
   "cell_type": "code",
   "execution_count": 2,
   "metadata": {
    "collapsed": true
   },
   "outputs": [],
   "source": [
    "disc_optimizer = Adadelta()\n",
    "GAN_optimizer = Adadelta()\n",
    "\n",
    "gen_regularizer = l2(1e-4)\n",
    "disc_regularizer = l2(1e-4)"
   ]
  },
  {
   "cell_type": "code",
   "execution_count": 3,
   "metadata": {
    "collapsed": true
   },
   "outputs": [],
   "source": [
    "# Generator Model\n",
    "g_input = Input(shape=[100])\n",
    "g_layer = Dense(4*4*512)(g_input)\n",
    "g_layer = BatchNormalization()(g_layer)\n",
    "g_layer = Activation('relu')(g_layer)\n",
    "\n",
    "g_layer = Reshape( [4, 4, 512] )(g_layer)\n",
    "\n",
    "g_layer = UpSampling2D(size=(2, 2))(g_layer) # 4 -> 8\n",
    "g_layer = Convolution2D(256, 5, 5, border_mode='same')(g_layer)\n",
    "g_layer = BatchNormalization(mode=2)(g_layer)\n",
    "g_layer = Activation('relu')(g_layer)\n",
    "\n",
    "g_layer = UpSampling2D(size=(2, 2))(g_layer) # 8 -> 16\n",
    "g_layer = Convolution2D(128, 5, 5, border_mode='same')(g_layer)\n",
    "g_layer = BatchNormalization(mode=2)(g_layer)\n",
    "g_layer = Activation('relu')(g_layer)\n",
    "\n",
    "g_layer = UpSampling2D(size=(2, 2))(g_layer) # 16 -> 32\n",
    "g_layer = Convolution2D(3, 5, 5, border_mode='same', W_regularizer=gen_regularizer)(g_layer)\n",
    "g_output = Activation('sigmoid')(g_layer)\n",
    "\n",
    "generator = Model(g_input, g_output)\n",
    "generator.compile(loss='mean_squared_error', optimizer=GAN_optimizer)"
   ]
  },
  {
   "cell_type": "code",
   "execution_count": 4,
   "metadata": {
    "collapsed": false
   },
   "outputs": [],
   "source": [
    "# SVG(model_to_dot(generator).create(prog='dot', format='svg'))\n",
    "plot(generator, to_file='generator.png', show_shapes='True')"
   ]
  },
  {
   "cell_type": "code",
   "execution_count": 5,
   "metadata": {
    "collapsed": false
   },
   "outputs": [],
   "source": [
    "d_input = Input(shape=(32, 32, 3))\n",
    "\n",
    "d_layer = Convolution2D(32, 3, 3, border_mode='same', W_regularizer=disc_regularizer)(d_input)\n",
    "d_layer = LeakyReLU()(d_layer)\n",
    "\n",
    "d_layer = Convolution2D(32, 3, 3, border_mode='same')(d_layer)\n",
    "d_layer = LeakyReLU()(d_layer)\n",
    "d_layer = MaxPooling2D(pool_size=(2, 2))(d_layer) # 32 -> 16\n",
    "d_layer = SpatialDropout2D(0.25)(d_layer)\n",
    "\n",
    "d_layer = Convolution2D(64, 3, 3, border_mode='same', W_regularizer=disc_regularizer)(d_layer)\n",
    "d_layer = LeakyReLU()(d_layer)\n",
    "\n",
    "d_layer = Convolution2D(64, 3, 3, border_mode='same')(d_layer)\n",
    "d_layer = LeakyReLU()(d_layer)\n",
    "d_layer = MaxPooling2D(pool_size=(2, 2))(d_layer) # 16 -> 8\n",
    "d_layer = SpatialDropout2D(0.25)(d_layer)\n",
    "\n",
    "d_layer = Convolution2D(96, 3, 3, border_mode='same', W_regularizer=disc_regularizer)(d_layer)\n",
    "d_layer = LeakyReLU()(d_layer)\n",
    "\n",
    "d_layer = Convolution2D(96, 3, 3, border_mode='same')(d_layer)\n",
    "d_layer = LeakyReLU()(d_layer)\n",
    "d_layer = MaxPooling2D(pool_size=(2, 2))(d_layer) # 8 -> 4\n",
    "d_layer = SpatialDropout2D(0.25)(d_layer)\n",
    "\n",
    "d_layer = Convolution2D(128, 3, 3, border_mode='same', W_regularizer=disc_regularizer)(d_layer)\n",
    "d_layer = LeakyReLU()(d_layer)\n",
    "\n",
    "d_layer = Convolution2D(128, 3, 3, border_mode='same')(d_layer)\n",
    "d_layer = LeakyReLU()(d_layer)\n",
    "d_layer = MaxPooling2D(pool_size=(2, 2))(d_layer) # 4 -> 2\n",
    "d_layer = SpatialDropout2D(0.25)(d_layer)\n",
    "\n",
    "d_layer = Flatten()(d_layer) # 2 x 2 x 128 -> 512\n",
    "\n",
    "d_layer = Dense(256)(d_layer)\n",
    "d_layer = LeakyReLU()(d_layer)\n",
    "d_layer = Dropout(0.5)(d_layer)\n",
    "\n",
    "d_layer = Dense(256)(d_layer)\n",
    "d_layer = LeakyReLU()(d_layer)\n",
    "d_layer = Dropout(0.5)(d_layer)\n",
    "\n",
    "d_layer = Dense(3)(d_layer)\n",
    "d_output = Activation('softmax')(d_layer)\n",
    "\n",
    "discriminator = Model(d_input, d_output)\n",
    "discriminator.compile(loss='categorical_crossentropy', optimizer=disc_optimizer)"
   ]
  },
  {
   "cell_type": "code",
   "execution_count": 6,
   "metadata": {
    "collapsed": false,
    "scrolled": true
   },
   "outputs": [],
   "source": [
    "# SVG(model_to_dot(discriminator).create(prog='dot', format='svg'))\n",
    "plot(discriminator, to_file='discriminator.png', show_shapes='True')"
   ]
  },
  {
   "cell_type": "code",
   "execution_count": 7,
   "metadata": {
    "collapsed": true
   },
   "outputs": [],
   "source": [
    "# GAN Model\n",
    "gan_input = Input(shape=[100])\n",
    "gan_layer = generator(gan_input)\n",
    "gan_output = discriminator(gan_layer)\n",
    "GAN = Model(gan_input, gan_output)\n",
    "GAN.compile(loss='categorical_crossentropy', optimizer=GAN_optimizer)"
   ]
  },
  {
   "cell_type": "code",
   "execution_count": 8,
   "metadata": {
    "collapsed": false,
    "scrolled": true
   },
   "outputs": [],
   "source": [
    "# SVG(model_to_dot(GAN).create(prog='dot', format='svg'))\n",
    "plot(GAN, to_file='GAN.png', show_shapes='True')"
   ]
  },
  {
   "cell_type": "code",
   "execution_count": null,
   "metadata": {
    "collapsed": true
   },
   "outputs": [],
   "source": []
  }
 ],
 "metadata": {
  "anaconda-cloud": {},
  "kernelspec": {
   "display_name": "Python [default]",
   "language": "python",
   "name": "python2"
  },
  "language_info": {
   "codemirror_mode": {
    "name": "ipython",
    "version": 2
   },
   "file_extension": ".py",
   "mimetype": "text/x-python",
   "name": "python",
   "nbconvert_exporter": "python",
   "pygments_lexer": "ipython2",
   "version": "2.7.12"
  }
 },
 "nbformat": 4,
 "nbformat_minor": 1
}
