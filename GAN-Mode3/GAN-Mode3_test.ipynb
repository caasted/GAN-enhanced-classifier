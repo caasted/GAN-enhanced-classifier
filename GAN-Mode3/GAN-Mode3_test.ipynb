{
 "cells": [
  {
   "cell_type": "code",
   "execution_count": 1,
   "metadata": {
    "collapsed": false,
    "deletable": true,
    "editable": true
   },
   "outputs": [
    {
     "name": "stderr",
     "output_type": "stream",
     "text": [
      "Using TensorFlow backend.\n"
     ]
    }
   ],
   "source": [
    "from keras.datasets import cifar10\n",
    "from keras.models import load_model\n",
    "from keras.utils.np_utils import to_categorical\n",
    "import numpy as np\n",
    "from six.moves import cPickle as pickle\n",
    "import os.path\n",
    "from IPython import display\n",
    "import matplotlib.pyplot as plt\n",
    "\n",
    "% matplotlib inline\n",
    "% config InlineBackend.figure_format = 'retina'"
   ]
  },
  {
   "cell_type": "code",
   "execution_count": 2,
   "metadata": {
    "collapsed": false,
    "deletable": true,
    "editable": true
   },
   "outputs": [],
   "source": [
    "def prepData(image_class):\n",
    "    # Fetch data\n",
    "    (X_train, y_train), (X_test, y_test) = cifar10.load_data()\n",
    "\n",
    "    # Convert uint8 pixel values to float32 in the range [0, 1] (for sigmoid)\n",
    "    X_test = X_test.astype('float32')\n",
    "    X_test /= 255\n",
    "\n",
    "    # Split dataset\n",
    "    X_new = np.ndarray(shape=(X_test.shape[0] / 10, X_test.shape[1], \n",
    "                        X_test.shape[2], X_test.shape[3]), dtype=np.float32)\n",
    "    X_other = np.ndarray(shape=(9 * X_test.shape[0] / 10, X_test.shape[1], \n",
    "                        X_test.shape[2], X_test.shape[3]), dtype=np.float32)\n",
    "\n",
    "    sampleNumber = 0\n",
    "    otherNumber = 0\n",
    "    for X, y in zip(X_test, y_test):\n",
    "        if y[0] == image_class:\n",
    "            X_new[sampleNumber] = X\n",
    "            sampleNumber += 1\n",
    "        else:\n",
    "            X_other[otherNumber] = X\n",
    "            otherNumber += 1\n",
    "    X_test = X_new[:, :, :, :]\n",
    "\n",
    "    return X_test, X_other"
   ]
  },
  {
   "cell_type": "code",
   "execution_count": 13,
   "metadata": {
    "collapsed": false
   },
   "outputs": [
    {
     "name": "stdout",
     "output_type": "stream",
     "text": [
      "Epoch: 50, Image class: 0, Accuracy: 0.9015, Real Pred. Ratio: 0.5686\n",
      "Epoch: 50, Image class: 1, Accuracy: 0.9445, Real Pred. Ratio: 0.7238\n",
      "Epoch: 50, Image class: 2, Accuracy: 0.7910, Real Pred. Ratio: 0.3925\n",
      "Epoch: 50, Image class: 3, Accuracy: 0.8080, Real Pred. Ratio: 0.7914\n",
      "Epoch: 50, Image class: 4, Accuracy: 0.8815, Real Pred. Ratio: 0.5559\n",
      "Epoch: 50, Image class: 5, Accuracy: 0.8360, Real Pred. Ratio: 0.6908\n",
      "Epoch: 50, Image class: 6, Accuracy: 0.8350, Real Pred. Ratio: 0.2953\n",
      "Epoch: 50, Image class: 7, Accuracy: 0.9185, Real Pred. Ratio: 0.9235\n",
      "Epoch: 50, Image class: 8, Accuracy: 0.9305, Real Pred. Ratio: 0.1844\n",
      "Epoch: 50, Image class: 9, Accuracy: 0.9155, Real Pred. Ratio: 0.8980\n",
      "\n",
      "Epoch: 50 Average Accuracy: 0.8762\n",
      "\n",
      "Epoch: 100, Image class: 0, Accuracy: 0.9245, Real Pred. Ratio: 0.6729\n",
      "Epoch: 100, Image class: 1, Accuracy: 0.9665, Real Pred. Ratio: 0.9017\n",
      "Epoch: 100, Image class: 2, Accuracy: 0.8505, Real Pred. Ratio: 0.6957\n",
      "Epoch: 100, Image class: 3, Accuracy: 0.8400, Real Pred. Ratio: 0.9051\n",
      "Epoch: 100, Image class: 4, Accuracy: 0.8950, Real Pred. Ratio: 0.6027\n",
      "Epoch: 100, Image class: 5, Accuracy: 0.8810, Real Pred. Ratio: 0.6873\n",
      "Epoch: 100, Image class: 6, Accuracy: 0.9215, Real Pred. Ratio: 0.6373\n",
      "Epoch: 100, Image class: 7, Accuracy: 0.9205, Real Pred. Ratio: 0.8157\n",
      "Epoch: 100, Image class: 8, Accuracy: 0.9545, Real Pred. Ratio: 0.8811\n",
      "Epoch: 100, Image class: 9, Accuracy: 0.9415, Real Pred. Ratio: 0.5186\n",
      "\n",
      "Epoch: 100 Average Accuracy: 0.9095\n",
      "\n",
      "Epoch: 150, Image class: 0, Accuracy: 0.9290, Real Pred. Ratio: 0.6803\n",
      "Epoch: 150, Image class: 1, Accuracy: 0.9655, Real Pred. Ratio: 0.9117\n",
      "Epoch: 150, Image class: 2, Accuracy: 0.8705, Real Pred. Ratio: 0.7112\n",
      "Epoch: 150, Image class: 3, Accuracy: 0.8300, Real Pred. Ratio: 0.8126\n",
      "Epoch: 150, Image class: 4, Accuracy: 0.8970, Real Pred. Ratio: 0.8137\n",
      "Epoch: 150, Image class: 5, Accuracy: 0.9025, Real Pred. Ratio: 0.8761\n",
      "Epoch: 150, Image class: 6, Accuracy: 0.9185, Real Pred. Ratio: 0.7626\n",
      "Epoch: 150, Image class: 7, Accuracy: 0.9225, Real Pred. Ratio: 0.8066\n",
      "Epoch: 150, Image class: 8, Accuracy: 0.9445, Real Pred. Ratio: 0.7599\n",
      "Epoch: 150, Image class: 9, Accuracy: 0.9460, Real Pred. Ratio: 0.8136\n",
      "\n",
      "Epoch: 150 Average Accuracy: 0.9126\n",
      "\n",
      "Epoch: 200, Image class: 0, Accuracy: 0.9270, Real Pred. Ratio: 0.7413\n",
      "Epoch: 200, Image class: 1, Accuracy: 0.9730, Real Pred. Ratio: 0.8782\n",
      "Epoch: 200, Image class: 2, Accuracy: 0.8650, Real Pred. Ratio: 0.6129\n",
      "Epoch: 200, Image class: 3, Accuracy: 0.8530, Real Pred. Ratio: 0.6062\n",
      "Epoch: 200, Image class: 4, Accuracy: 0.9040, Real Pred. Ratio: 0.6221\n",
      "Epoch: 200, Image class: 5, Accuracy: 0.8875, Real Pred. Ratio: 0.8046\n",
      "Epoch: 200, Image class: 6, Accuracy: 0.9295, Real Pred. Ratio: 0.6808\n",
      "Epoch: 200, Image class: 7, Accuracy: 0.9275, Real Pred. Ratio: 0.8606\n",
      "Epoch: 200, Image class: 8, Accuracy: 0.9460, Real Pred. Ratio: 0.6430\n",
      "Epoch: 200, Image class: 9, Accuracy: 0.9535, Real Pred. Ratio: 0.6341\n",
      "\n",
      "Epoch: 200 Average Accuracy: 0.9166\n",
      "\n",
      "Epoch: 250, Image class: 0, Accuracy: 0.9265, Real Pred. Ratio: 0.7159\n",
      "Epoch: 250, Image class: 1, Accuracy: 0.9615, Real Pred. Ratio: 0.8149\n",
      "Epoch: 250, Image class: 2, Accuracy: 0.8750, Real Pred. Ratio: 0.8591\n",
      "Epoch: 250, Image class: 3, Accuracy: 0.8425, Real Pred. Ratio: 0.5614\n",
      "Epoch: 250, Image class: 4, Accuracy: 0.9125, Real Pred. Ratio: 0.5256\n",
      "Epoch: 250, Image class: 5, Accuracy: 0.8775, Real Pred. Ratio: 0.7376\n",
      "Epoch: 250, Image class: 6, Accuracy: 0.9395, Real Pred. Ratio: 0.6235\n",
      "Epoch: 250, Image class: 7, Accuracy: 0.9375, Real Pred. Ratio: 0.7885\n",
      "Epoch: 250, Image class: 8, Accuracy: 0.9590, Real Pred. Ratio: 0.6446\n",
      "Epoch: 250, Image class: 9, Accuracy: 0.9425, Real Pred. Ratio: 0.8138\n",
      "\n",
      "Epoch: 250 Average Accuracy: 0.9174\n",
      "\n",
      "Epoch: 300, Image class: 0, Accuracy: 0.9205, Real Pred. Ratio: 0.7480\n",
      "Epoch: 300, Image class: 1, Accuracy: 0.9625, Real Pred. Ratio: 0.8652\n",
      "Epoch: 300, Image class: 2, Accuracy: 0.8705, Real Pred. Ratio: 0.5911\n",
      "Epoch: 300, Image class: 3, Accuracy: 0.8445, Real Pred. Ratio: 0.7506\n",
      "Epoch: 300, Image class: 4, Accuracy: 0.9190, Real Pred. Ratio: 0.5467\n",
      "Epoch: 300, Image class: 5, Accuracy: 0.8755, Real Pred. Ratio: 0.7506\n",
      "Epoch: 300, Image class: 6, Accuracy: 0.9310, Real Pred. Ratio: 0.7506\n",
      "Epoch: 300, Image class: 7, Accuracy: 0.9280, Real Pred. Ratio: 0.9045\n",
      "Epoch: 300, Image class: 8, Accuracy: 0.9425, Real Pred. Ratio: 0.8633\n",
      "Epoch: 300, Image class: 9, Accuracy: 0.9515, Real Pred. Ratio: 0.7900\n",
      "\n",
      "Epoch: 300 Average Accuracy: 0.9145\n",
      "\n"
     ]
    }
   ],
   "source": [
    "for epoch in [50, 100, 150, 200, 250, 300]:\n",
    "    avg_accuracy = 0\n",
    "    for image_class in range(10):\n",
    "        X_test, X_other = prepData(image_class)\n",
    "        y_test = np.zeros(shape=(X_test.shape[0], 3))\n",
    "        y_other = np.zeros(shape=(X_other.shape[0], 3))\n",
    "        y_test[:, 0] = 1 # Real class images\n",
    "        y_other[:, 2] = 1 # Real other images\n",
    "        \n",
    "        other_indices = np.random.randint(0, X_other.shape[0], X_test.shape[0])\n",
    "        X_test = np.concatenate((X_test, X_other[other_indices, :, :, :]))\n",
    "        y_test = np.concatenate((y_test, y_other[other_indices, :]))\n",
    "\n",
    "        discriminator = load_model(\"networks/disc\" + str(image_class) + \"-\" + str(epoch) + \".h5\")\n",
    "\n",
    "        preds = discriminator.predict(X_test)\n",
    "\n",
    "        accuracy = 0\n",
    "        real_predictions = 0\n",
    "        gen_predictions = 0\n",
    "        for pred_index in range(len(preds)):\n",
    "            if y_test[pred_index, 0] == 1:\n",
    "                if preds[pred_index, 0] + preds[pred_index, 1] >= preds[pred_index, 2]:\n",
    "                    accuracy += 1\n",
    "                    if preds[pred_index, 0] > preds[pred_index, 1]:\n",
    "                        real_predictions += 1\n",
    "                    else:\n",
    "                        gen_predictions += 1\n",
    "            elif y_test[pred_index, 2] == 1:\n",
    "                if preds[pred_index, 0] + preds[pred_index, 1] <= preds[pred_index, 2]:\n",
    "                    accuracy += 1\n",
    "            else:\n",
    "                print \"y_test should not include generated images\"\n",
    "\n",
    "        accuracy /= 1. * len(preds)\n",
    "        real_gen_ratio = 1. * real_predictions / (real_predictions + gen_predictions)\n",
    "        \n",
    "        msg = \"Epoch: {:d}, Image class: {:d}\".format(epoch, image_class)\n",
    "        msg += \", Accuracy: {:.4f}, Real Pred. Ratio: {:.4f}\".format(accuracy, real_gen_ratio)\n",
    "        print msg\n",
    "        \n",
    "        avg_accuracy += accuracy\n",
    "    print \"\\nEpoch: {:d} Average Accuracy: {:.4f}\\n\".format(epoch, avg_accuracy / 10)"
   ]
  },
  {
   "cell_type": "code",
   "execution_count": 23,
   "metadata": {
    "collapsed": false
   },
   "outputs": [
    {
     "name": "stdout",
     "output_type": "stream",
     "text": [
      "Epoch 50 joint accuracy: 0.6975\n",
      "Epoch 100 joint accuracy: 0.7952\n",
      "Epoch 150 joint accuracy: 0.8188\n",
      "Epoch 200 joint accuracy: 0.8265\n",
      "Epoch 250 joint accuracy: 0.8313\n",
      "Epoch 300 joint accuracy: 0.8316\n"
     ]
    }
   ],
   "source": [
    "# Fetch data\n",
    "(X_train, y_train), (X_test, y_test) = cifar10.load_data()\n",
    "\n",
    "# Convert uint8 pixel values to float32 in the range [0, 1] (for sigmoid)\n",
    "X_test = X_test.astype('float32')\n",
    "X_test /= 255\n",
    "\n",
    "for epoch in [50, 100, 150, 200, 250, 300]:\n",
    "    all_class_preds = np.ndarray(shape=(X_test.shape[0], 10), dtype=np.float32)\n",
    "    for image_class in range(10):\n",
    "        discriminator = load_model(\"networks/disc\" + str(image_class) + \"-\" + str(epoch) + \".h5\")\n",
    "        preds = discriminator.predict(X_test)\n",
    "        class_preds = preds[:, 0] + preds[:, 1]\n",
    "        all_class_preds[:, image_class] = class_preds\n",
    "    \n",
    "    # Calculate joint accuracy\n",
    "    all_class_preds_index = np.argmax(all_class_preds, axis=1)\n",
    "    accuracy = 0\n",
    "    for y, p in zip(y_test, all_class_preds_index):\n",
    "        if y == p:\n",
    "            accuracy += 1\n",
    "    accuracy /= 1. * len(y_test)\n",
    "    print \"Epoch {:d} joint accuracy: {:.4f}\".format(epoch, accuracy)"
   ]
  },
  {
   "cell_type": "code",
   "execution_count": null,
   "metadata": {
    "collapsed": true
   },
   "outputs": [],
   "source": []
  }
 ],
 "metadata": {
  "anaconda-cloud": {},
  "kernelspec": {
   "display_name": "Python [default]",
   "language": "python",
   "name": "python2"
  },
  "language_info": {
   "codemirror_mode": {
    "name": "ipython",
    "version": 2
   },
   "file_extension": ".py",
   "mimetype": "text/x-python",
   "name": "python",
   "nbconvert_exporter": "python",
   "pygments_lexer": "ipython2",
   "version": "2.7.12"
  }
 },
 "nbformat": 4,
 "nbformat_minor": 1
}
